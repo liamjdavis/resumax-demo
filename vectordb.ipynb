{
 "cells": [
  {
   "cell_type": "code",
   "execution_count": 1,
   "metadata": {},
   "outputs": [],
   "source": [
    "from huggingface_hub import login, notebook_login\n",
    "from langchain_huggingface import HuggingFacePipeline\n",
    "from transformers import AutoModelForCausalLM, AutoTokenizer, GenerationConfig, pipeline, BitsAndBytesConfig, AutoConfig\n",
    "import torch\n",
    "from textwrap import fill\n",
    "from langchain.prompts import PromptTemplate\n",
    "import locale\n",
    "from langchain.document_loaders import UnstructuredURLLoader\n",
    "from langchain.vectorstores.utils import filter_complex_metadata\n",
    "from langchain.vectorstores import FAISS\n",
    "from langchain.embeddings import HuggingFaceEmbeddings\n",
    "from langchain.text_splitter import RecursiveCharacterTextSplitter\n",
    "\n",
    "from langchain.prompts import PromptTemplate\n",
    "from langchain.chains import RetrievalQA\n",
    "\n",
    "locale.getpreferredencoding = lambda: \"UTF-8\""
   ]
  },
  {
   "cell_type": "code",
   "execution_count": null,
   "metadata": {},
   "outputs": [],
   "source": [
    "from huggingface_hub import login\n",
    "import os\n",
    "login(os.getenv('HUGGINGFACE_TOKEN'))"
   ]
  },
  {
   "cell_type": "code",
   "execution_count": 3,
   "metadata": {},
   "outputs": [
    {
     "name": "stdout",
     "output_type": "stream",
     "text": [
      "Loading documents\n"
     ]
    },
    {
     "name": "stderr",
     "output_type": "stream",
     "text": [
      "2025-03-03 16:52:48,326 - INFO - Process <Future at 0x7fdcba29e9e0 state=finished returned list> completed\n",
      "2025-03-03 16:52:48,339 - INFO - Process <Future at 0x7fdcba29d6c0 state=finished returned list> completed\n",
      "2025-03-03 16:52:48,345 - INFO - Process <Future at 0x7fdcba29e920 state=finished returned list> completed\n",
      "2025-03-03 16:52:48,369 - INFO - Process <Future at 0x7fdcba29e620 state=finished returned list> completed\n",
      "2025-03-03 16:52:48,398 - INFO - Process <Future at 0x7fdcba29e860 state=finished returned list> completed\n"
     ]
    },
    {
     "name": "stdout",
     "output_type": "stream",
     "text": [
      "93\n"
     ]
    }
   ],
   "source": [
    "from langchain_community.document_loaders import PyMuPDFLoader\n",
    "from langchain_text_splitters import RecursiveCharacterTextSplitter\n",
    "import os\n",
    "from concurrent.futures import ProcessPoolExecutor, as_completed\n",
    "import logging\n",
    "\n",
    "logging.basicConfig(level=logging.INFO, format='%(asctime)s - %(levelname)s - %(message)s')\n",
    "\n",
    "# Get all .pdf files in the pdfs/ directory and subdirectories\n",
    "pdf_files = []\n",
    "for root, dirs, files in os.walk('pdfs'):\n",
    "    for file in files:\n",
    "        if file.endswith('.pdf'):\n",
    "            pdf_files.append(os.path.join(root, file))\n",
    "\n",
    "# Create loaders for each .pdf file\n",
    "loaders = [PyMuPDFLoader(fn) for fn in pdf_files]\n",
    "\n",
    "def process_loader(loader):\n",
    "    md_doc = loader.load()\n",
    "    text_splitter = RecursiveCharacterTextSplitter(chunk_size=1024, chunk_overlap=256)\n",
    "    documents = text_splitter.split_documents(md_doc)\n",
    "    return documents\n",
    "\n",
    "chunked_pdf_doc = []\n",
    "\n",
    "print(\"Loading documents\")\n",
    "with ProcessPoolExecutor(max_workers=10) as executor:  # Reduce workers to avoid memory issues\n",
    "    futures = [executor.submit(process_loader, loader) for loader in loaders]\n",
    "    for future in as_completed(futures):\n",
    "        logging.info(f\"Process {future} completed\")\n",
    "        chunked_pdf_doc.extend(future.result())\n",
    "\n",
    "print(len(chunked_pdf_doc))"
   ]
  },
  {
   "cell_type": "code",
   "execution_count": 4,
   "metadata": {},
   "outputs": [
    {
     "name": "stderr",
     "output_type": "stream",
     "text": [
      "/tmp/ipykernel_29252/920886965.py:4: LangChainDeprecationWarning: The class `HuggingFaceEmbeddings` was deprecated in LangChain 0.2.2 and will be removed in 1.0. An updated version of the class exists in the :class:`~langchain-huggingface package and should be used instead. To use it run `pip install -U :class:`~langchain-huggingface` and import as `from :class:`~langchain_huggingface import HuggingFaceEmbeddings``.\n",
      "  embeddings = HuggingFaceEmbeddings(\n",
      "2025-03-03 16:52:48,530 - INFO - Load pretrained SentenceTransformer: sentence-transformers/all-mpnet-base-v2\n",
      "2025-03-03 16:52:53,379 - INFO - Start multi-process pool on devices: cuda:0\n"
     ]
    },
    {
     "data": {
      "application/vnd.jupyter.widget-view+json": {
       "model_id": "707b8a8f8a1746cf9a31e1f2e4372cd2",
       "version_major": 2,
       "version_minor": 0
      },
      "text/plain": [
       "Chunks:   0%|          | 0/10 [00:00<?, ?it/s]"
      ]
     },
     "metadata": {},
     "output_type": "display_data"
    },
    {
     "name": "stderr",
     "output_type": "stream",
     "text": [
      "2025-03-03 16:53:02,428 - INFO - Loading faiss with AVX2 support.\n",
      "2025-03-03 16:53:02,429 - INFO - Could not load library with AVX2 support due to:\n",
      "ModuleNotFoundError(\"No module named 'faiss.swigfaiss_avx2'\")\n",
      "2025-03-03 16:53:02,430 - INFO - Loading faiss.\n",
      "2025-03-03 16:53:02,464 - INFO - Successfully loaded faiss.\n"
     ]
    }
   ],
   "source": [
    "embedding_model_name = \"sentence-transformers/all-mpnet-base-v2\"\n",
    "model_kwargs = {\"device\": \"cuda\"}\n",
    "\n",
    "embeddings = HuggingFaceEmbeddings(\n",
    "    model_name=embedding_model_name,\n",
    "    model_kwargs=model_kwargs,\n",
    "    multi_process=True,\n",
    ")\n",
    "\n",
    "vector_store = FAISS.from_documents(chunked_pdf_doc, embeddings)"
   ]
  },
  {
   "cell_type": "code",
   "execution_count": 5,
   "metadata": {},
   "outputs": [],
   "source": [
    "# Specify the directory where you want to save the FAISS index and metadata\n",
    "save_directory = \"faiss_index\"\n",
    "\n",
    "# Save the FAISS index and metadata to the specified directory\n",
    "vector_store.save_local(save_directory)"
   ]
  },
  {
   "cell_type": "code",
   "execution_count": 6,
   "metadata": {},
   "outputs": [
    {
     "data": {
      "application/vnd.jupyter.widget-view+json": {
       "model_id": "0d304af7a0d04225ac12271cbd3edcb8",
       "version_major": 2,
       "version_minor": 0
      },
      "text/plain": [
       "config.json:   0%|          | 0.00/877 [00:00<?, ?B/s]"
      ]
     },
     "metadata": {},
     "output_type": "display_data"
    },
    {
     "data": {
      "application/vnd.jupyter.widget-view+json": {
       "model_id": "247bf6d6f37141c786e3250c93e6db30",
       "version_major": 2,
       "version_minor": 0
      },
      "text/plain": [
       "model.safetensors:   0%|          | 0.00/2.47G [00:00<?, ?B/s]"
      ]
     },
     "metadata": {},
     "output_type": "display_data"
    },
    {
     "data": {
      "application/vnd.jupyter.widget-view+json": {
       "model_id": "339306c7d69b425590df50d03462fac0",
       "version_major": 2,
       "version_minor": 0
      },
      "text/plain": [
       "generation_config.json:   0%|          | 0.00/189 [00:00<?, ?B/s]"
      ]
     },
     "metadata": {},
     "output_type": "display_data"
    },
    {
     "data": {
      "application/vnd.jupyter.widget-view+json": {
       "model_id": "33dc407e4f794e7d9e122b0e72596b39",
       "version_major": 2,
       "version_minor": 0
      },
      "text/plain": [
       "tokenizer_config.json:   0%|          | 0.00/54.5k [00:00<?, ?B/s]"
      ]
     },
     "metadata": {},
     "output_type": "display_data"
    },
    {
     "data": {
      "application/vnd.jupyter.widget-view+json": {
       "model_id": "38a476e8c6544428b0b7b7f870721e26",
       "version_major": 2,
       "version_minor": 0
      },
      "text/plain": [
       "tokenizer.json:   0%|          | 0.00/9.09M [00:00<?, ?B/s]"
      ]
     },
     "metadata": {},
     "output_type": "display_data"
    },
    {
     "data": {
      "application/vnd.jupyter.widget-view+json": {
       "model_id": "e0dae37d9c6f47c4a18c56065dcd7e68",
       "version_major": 2,
       "version_minor": 0
      },
      "text/plain": [
       "special_tokens_map.json:   0%|          | 0.00/296 [00:00<?, ?B/s]"
      ]
     },
     "metadata": {},
     "output_type": "display_data"
    },
    {
     "name": "stderr",
     "output_type": "stream",
     "text": [
      "Device set to use cuda\n"
     ]
    }
   ],
   "source": [
    "model_name = \"meta-llama/Llama-3.2-1B-Instruct\" \n",
    "\n",
    "quantization_config = BitsAndBytesConfig()\n",
    "\n",
    "model = AutoModelForCausalLM.from_pretrained(model_name,\n",
    "                                             device_map=\"cuda\",\n",
    "                                             quantization_config=quantization_config,\n",
    "                                             trust_remote_code=True)\n",
    "\n",
    "tokenizer = AutoTokenizer.from_pretrained(model_name, use_fast=True)\n",
    "\n",
    "gen_cfg = GenerationConfig.from_pretrained(model_name)\n",
    "gen_cfg.max_new_tokens=512\n",
    "gen_cfg.temperature=0.0000001 \n",
    "gen_cfg.return_full_text=True\n",
    "gen_cfg.do_sample=True\n",
    "gen_cfg.repetition_penalty=1.11\n",
    "\n",
    "pipe=pipeline(\n",
    "    task=\"text-generation\",\n",
    "    model=model,\n",
    "    tokenizer=tokenizer,\n",
    "    generation_config=gen_cfg\n",
    ")\n",
    "\n",
    "llm = HuggingFacePipeline(pipeline=pipe)"
   ]
  },
  {
   "cell_type": "code",
   "execution_count": 7,
   "metadata": {},
   "outputs": [],
   "source": [
    "prompt_template_llama3 = \"\"\"\n",
    "<|begin_of_text|><|start_header_id|>system<|end_header_id|>\n",
    "\n",
    "You are a resume reviewer. You will be given a resume. Use the following context to answer the question and give tailored feedback\n",
    "on how to improve the resume. Be concise and to the point. Return in this format:\n",
    "\n",
    "<general review of the resume>\n",
    "[The text of the general review]\n",
    "</general review of the resume>\n",
    "\n",
    "<tailored feedback answering the question>\n",
    "[The text of the tailored feedback]\n",
    "</tailored feedback>\n",
    "\n",
    "<Next steps for improvement>\n",
    "[The text of the next steps for improvement]\n",
    "</Next steps for improvement>\n",
    "\n",
    "{context}<|eot_id|><|start_header_id|>user<|end_header_id|>\n",
    "\n",
    "{question}<|eot_id|><|start_header_id|>assistant<|end_header_id|>\n",
    "\"\"\"\n",
    "\n",
    "prompt_template=prompt_template_llama3\n",
    "\n",
    "prompt = PromptTemplate(\n",
    "    input_variables=[\"text\"],\n",
    "    template=prompt_template,\n",
    ")\n",
    "prompt = PromptTemplate(template=prompt_template, input_variables=[\"context\", \"question\"])"
   ]
  },
  {
   "cell_type": "code",
   "execution_count": 8,
   "metadata": {},
   "outputs": [
    {
     "name": "stderr",
     "output_type": "stream",
     "text": [
      "2025-03-03 16:56:41,962 - INFO - Start multi-process pool on devices: cuda:0\n"
     ]
    },
    {
     "data": {
      "application/vnd.jupyter.widget-view+json": {
       "model_id": "4c3765c5fc914e8e84762df2b2ad6d79",
       "version_major": 2,
       "version_minor": 0
      },
      "text/plain": [
       "Chunks:   0%|          | 0/1 [00:00<?, ?it/s]"
      ]
     },
     "metadata": {},
     "output_type": "display_data"
    },
    {
     "name": "stderr",
     "output_type": "stream",
     "text": [
      "Setting `pad_token_id` to `eos_token_id`:128001 for open-end generation.\n",
      "/home/liam/anaconda3/envs/vectordb/lib/python3.10/site-packages/bitsandbytes/nn/modules.py:451: UserWarning: Input type into Linear4bit is torch.float16, but bnb_4bit_compute_dtype=torch.float32 (default). This will lead to slow inference or training speed.\n",
      "  warnings.warn(\n",
      "2025-03-03 16:56:56,624 - INFO - Start multi-process pool on devices: cuda:0\n"
     ]
    },
    {
     "name": "stdout",
     "output_type": "stream",
     "text": [
      "<|begin_of_text|><|start_header_id|>system<|end_header_id|>  You are a resume reviewer. You will be given a resume. Use the following context to answer the question and give tailored feedback on how\n",
      "to improve the resume. Be concise and to the point. Return in this format:  <general review of the resume> [The text of the general review] </general review of the resume>  <tailored feedback\n",
      "answering the question> [The text of the tailored feedback] </tailored feedback>  <Next steps for improvement> [The text of the next steps for improvement] </Next steps for improvement>  describe\n",
      "entire, sometimes multi-year experiences into a very short amount of space. Each position requires 2-4 action-oriented bullet points describing not only what you did, but how you did it, emphasizing\n",
      "data and the impact of your work. ● List the organization, city and state, your role, and the month(s) and year(s) you were/are involved Loeb Center for Career Exploration and Planning |\n",
      "amherst.edu/campuslife/careers | Resume Page 3  for ○ It demonstrates hard work and dedication ● Prioritize your bullets: To capture the employer’s attention, your most important and relevant\n",
      "contributions and responsibilities should be listed first under each experience ● Use aligned language: Integrate the key words of a job description or industry into your descriptions and skills areas\n",
      "to show your alignment with the desired qualifications. This means you may describe your experiences differently from one resume to the next. Some employers even use keyword scanner software for the\n",
      "initial round of application reviews so integrating appropriate keywords is critical to moving on to the next phase. Tips & Resources ● A web page version of this Resume How-To Guide is available. ●\n",
      "Get your resume reviewed by a Loeb Center Peer Career Advisor (PCA) for feedback. Schedule an appointment in Handshake. Loeb Center for Career Exploration and Planning | amherst.edu/campuslife/careers\n",
      "| Resume Page 6  Sample Resume Layout and Formatting For more examples, refer to the How To Guides section of our website: https://www.amherst.edu/campuslife/careers/resources Effective Experience\n",
      "Descriptions Make sure that each bulleted descriptive statement under an experience: Follows the formula of Action Verb + What You Did + Descriptive Information/Results Begins with an Action Verb,\n",
      "such as Led, Supported, Collaborated, Researched, etc. Features the most important aspects of a role rather than an exhaustive list of every component and does not include passive phrases such as\n",
      "‘duties included’ or ‘responsible for’ Includes specific, diversified language that does not repeat throughout the resume Quantifies your labor by including the scale of tasks, volume of customers\n",
      "served, and/or percentage of improvement Emphasizes impact or accomplishment of action, with language such as ‘...in order to,’ ‘...resulting in,’ ‘...exceeding expectations by,’ ‘...successfully,’\n",
      "‘...ensuring that,’ etc  Tips for Resume Creation ● Avoid Using Resume Templates ● Standardization: The Loeb Center has designed our templates to align with diverse industry standards, ensuring\n",
      "consistency and professionalism across various fields. ● Formatting Control: Templates can impose rigid formatting that may not align with your style or the content you want to present. ● Artificial\n",
      "Intelligence (AI) Use: Applications that utilize AI tools to review resumes often struggle to accurately read templates due to their columned format. Additional Suggestions 1. Tailor Your Resume for\n",
      "Each Application ● Adjust your resume to highlight relevant experiences and skills based on the job description or internship requirements. 2. Proofread and Edit ● Check for spelling and grammatical\n",
      "errors. Consider having a peer or advisor review your resume for feedback. 3. Include Relevant Experiences ● Don’t just list jobs; include volunteer work, clubs, projects, and coursework that\n",
      "demonstrate your skills and interests.  LEADERSHIP EXPERIENCE Alumni Development Ambassador, The Thacher School | Ojai, CA August 2023 - June 2024 ● Designed section in school magazine with Canva\n",
      "commemorating 11 horses through a variety of pictures and personal anecdotes, incorporating custom layouts and visual storytelling to engage the audience ● Communicated with 1000+ students and alumni\n",
      "to promote gift initiatives through phone calls, letters, and various social media campaigns Dormitory Prefect, The Thacher School | Ojai, CA August 2023 - June 2024 ● Advised 32 sophomores through\n",
      "weekly individual and group meetings for 8 months, offering timely support in personal, academic, and social issues ● Organized various dorm and grade events to promote community bonding and foster\n",
      "stronger peer relationships ● Mediated conflicts and facilitated open dialogue to maintain a supportive and inclusive living environment Affinity Group Representative, The Thacher School | Ojai, CA\n",
      "August 2023 - June 2024 ●  Relevant information Your resume will contain a range of experiences that have been significant in time and meaning to you, including internships, jobs, extracurricular\n",
      "activities, athletics, and even projects, meaning that your resume will include paid and unpaid experiences. As a college student, potential employers understand that you may not have vast job\n",
      "experience in your interested/intended field. Length As an undergraduate student, your resume should be no more than one page Voice Write your resume in the removed first person voice, so no referring\n",
      "to yourself as ‘I’ or even ‘They.’ Order Place your experiences in reverse chronological order, meaning that the most recent goes at the top. Document Needs Save you resume as a .PDF with a formal\n",
      "file name, such as: AlishaRamirez_Resume_July2020.pdf Components of a Resume Format ● 1 page long with consistent, easy to read formatting throughout utilizing bold, italicize and underline features ●\n",
      "‘Leadership and Activities,’ etc Experiences are listed in reverse chronological order within the section beginning with the present or ongoing experience(s) Experiences include the names of the\n",
      "organizations, position titles, locations, and relevant dates Dates are formatted with the month and year (e.g. June – August 2022), not seasons (Summer 2022) Dates for ongoing experiences are\n",
      "formatted as ‘June 2022 – Present’ Verbs are in the correct tense: past tense for experiences that have ended and present tense for ongoing experiences Experiences include 2-4 descriptive bulleted\n",
      "statements. See next page for more information Placed between Education and Skills sections Skills and Interests Section (Optional) Accurately indicates the level of proficiency for language or\n",
      "technical skills Does not include soft skills such as teamwork, communication, strategic thinking Can share specific interests that are not reflected in the rest of the resume (e.g. Salsa dancing,\n",
      "hiking in the Adirondacks, reading sci-fi, etc)  the project, your role, when you worked on the project, and a bulleted description. ○ Examples include app development, coding challenges, self-\n",
      "published publications, art exhibitions, and film projects. Talk with an advisor about how to strategically feature your projects. Publications and Presentations ○ Appropriate if you co-authored a\n",
      "paper that was published as part of a formal research project, or if you presented research at a conference or other professional gathering. Talk with an advisor about standards for your industry area\n",
      "Certifications and Supplemental Education ○ Such as EMT certification, completing a certificate program through the Harvard Business School, or a training program in the military Awards Loeb Center\n",
      "for Career Exploration and Planning | amherst.edu/campuslife/careers | Resume Page 5  to boost attendance at family/youth museum events; supported production for all in-person and digital programming\n",
      "Kinds of Experiences In telling your story through your resume, you may realize that there are themes between your experiences that can be best told through multiple Experience sections. These could\n",
      "be specific to a certain industry area, such as Teaching Experience or Loeb Center for Career Exploration and Planning | amherst.edu/campuslife/careers | Resume Page 4  Placed at the top of the resume\n",
      "and can be centered, left, or right justified Education Section Institutions are listed in reverse chronological order (most recent, Amherst College, first) Each entry contains the name, location, and\n",
      "relevant dates or anticipated graduation date Includes study abroad experience(s) from college, if relevant Does not include non-academic awards or experiences Degree is spelled out (Bachelor of Arts)\n",
      "Includes major (if declared), prospective major (if not declared) Includes GPA on a 4.00 scale (optional, if above 3.2) Placed at the top of the resume after Contact Information if a current student\n",
      "or recent graduate Experience Section(s) Section titles reflect the content within it, such as ‘Work Experience,’ ‘Research Experience,’ ‘Leadership and Activities,’ etc Experiences are listed in\n",
      "reverse chronological order within the section beginning with the present or ongoing experience(s) Experiences include the names of the organizations, position titles, locations,\n",
      "and<|eot_id|><|start_header_id|>user<|end_header_id|>  Does the resume highlight leadership experience effectively?  Work Experience: Software Engineering Intern | Google | Summer 2024 - Developed and\n",
      "optimized backend services for a large-scale distributed system, improving performance by 20%. - Led a team of three interns in implementing a feature that reduced data retrieval time by 30%.\n",
      "Teaching Assistant | Amherst College | Fall 2023 - Present - Led weekly discussions and mentored students in algorithms and data structures. - Created practice problems that improved students’\n",
      "understanding of computational complexity. <|eot_id|><|start_header_id|>assistant<|end_header_id|> Here's a brief critique of the resume highlighting leadership experience:  **Strengths:**  * The\n",
      "resume clearly lists the Software Engineering Internship at Google, which is a notable internship experience. * The achievements mentioned, such as \"improved performance by 20% and reduced data\n",
      "retrieval time by 30%\", demonstrate the candidate's ability to lead and manage a team.  **Weaknesses:**  * The resume lacks specificity regarding the type of leadership experience. While mentioning\n",
      "leading a team and mentoring students is impressive, it would be helpful to provide more details about the scope and impact of these roles. * The achievement statements seem somewhat generic and don't\n",
      "reveal much about the candidate's unique strengths or accomplishments. For example, instead of simply stating \"improved performance\", consider framing it as \"increased efficiency by 25% while\n",
      "optimizing database queries\". * There are some repetitive terms like \"team\" and \"mentoring\". Try to vary the language to make the resume more distinctive and impactful.  **Suggestions:**  * Tailor the\n",
      "resume to the specific job or industry by highlighting relevant skills and experiences. * Emphasize achievements that showcase the candidate's problem-solving abilities, analytical thinking, and\n",
      "communication skills. * Consider adding more detail about the specific technologies or systems being developed during the internship. * Use action verbs that convey a sense of initiative and progress,\n",
      "such as \"led\", \"managed\", \"developed\", or \"created\".  **Example of revised Work Experience:**  Software Engineering Intern | Google | Summer 2024 - Designed and implemented a scalable algorithmic\n",
      "framework for real-time data processing, resulting in a 30% increase in query speed and a 40% reduction in latency. - Mentored junior engineers in Python programming and machine learning, providing\n",
      "guidance on optimization techniques and code quality. - Collaborated with cross-functional teams to develop and deploy cloud-based applications, ensuring seamless integration and scalability.  By\n",
      "addressing these weaknesses and suggestions, the resume becomes more effective in showcasing the candidate's leadership experience and skills.\n",
      "##########################################################################\n"
     ]
    },
    {
     "data": {
      "application/vnd.jupyter.widget-view+json": {
       "model_id": "7faa2a348c0e484f96fbe64baf65e406",
       "version_major": 2,
       "version_minor": 0
      },
      "text/plain": [
       "Chunks:   0%|          | 0/1 [00:00<?, ?it/s]"
      ]
     },
     "metadata": {},
     "output_type": "display_data"
    },
    {
     "name": "stderr",
     "output_type": "stream",
     "text": [
      "Setting `pad_token_id` to `eos_token_id`:128001 for open-end generation.\n"
     ]
    },
    {
     "name": "stdout",
     "output_type": "stream",
     "text": [
      "<|begin_of_text|><|start_header_id|>system<|end_header_id|>  You are a resume reviewer. You will be given a resume. Use the following context to answer the question and give tailored feedback on how\n",
      "to improve the resume. Be concise and to the point. Return in this format:  <general review of the resume> [The text of the general review] </general review of the resume>  <tailored feedback\n",
      "answering the question> [The text of the tailored feedback] </tailored feedback>  <Next steps for improvement> [The text of the next steps for improvement] </Next steps for improvement>  Skills &\n",
      "Interests Language Skills: Fluent in Spanish; Advanced in French Digital Tools: Google Suite, Microsoft Office Suite, Zoom, Slack, Zotero Interests: Baking pastries, rock climbing, political podcasts,\n",
      "fiction writing Additional Categories These are all optional categories that may be relevant depending on your circumstance, field of study or intended industry. Selected Projects ○ This is a section\n",
      "most often utilized by students interested in computer science, tech, entrepreneurship, and the arts. It is an opportunity for you to list a significant project you’ve worked on outside of a course\n",
      "showcasing your abilities. You may describe these projects just as you describe experiences in the Experience section with a location, title of the project, your role, when you worked on the project,\n",
      "and a bulleted description. ○ Examples include app development, coding challenges, self-published publications, art exhibitions, and film projects. Talk with an advisor  CERTIFICATIONS, SKILLS &\n",
      "INTERESTS ●Credentials: Emergency Medical Technician (NREMT, MA-Certified), CPR-Certified, Girl Scout Gold Award ●Technical Skills: Microsoft Excel, WordPress Elementor, Canva, Google Suite\n",
      "●Interests: Singing while playing piano, mentoring, cooking, food exploration, embroidery  ‘Leadership and Activities,’ etc Experiences are listed in reverse chronological order within the section\n",
      "beginning with the present or ongoing experience(s) Experiences include the names of the organizations, position titles, locations, and relevant dates Dates are formatted with the month and year (e.g.\n",
      "June – August 2022), not seasons (Summer 2022) Dates for ongoing experiences are formatted as ‘June 2022 – Present’ Verbs are in the correct tense: past tense for experiences that have ended and\n",
      "present tense for ongoing experiences Experiences include 2-4 descriptive bulleted statements. See next page for more information Placed between Education and Skills sections Skills and Interests\n",
      "Section (Optional) Accurately indicates the level of proficiency for language or technical skills Does not include soft skills such as teamwork, communication, strategic thinking Can share specific\n",
      "interests that are not reflected in the rest of the resume (e.g. Salsa dancing, hiking in the Adirondacks, reading sci-fi, etc)  the project, your role, when you worked on the project, and a bulleted\n",
      "description. ○ Examples include app development, coding challenges, self-published publications, art exhibitions, and film projects. Talk with an advisor about how to strategically feature your\n",
      "projects. Publications and Presentations ○ Appropriate if you co-authored a paper that was published as part of a formal research project, or if you presented research at a conference or other\n",
      "professional gathering. Talk with an advisor about standards for your industry area Certifications and Supplemental Education ○ Such as EMT certification, completing a certificate program through the\n",
      "Harvard Business School, or a training program in the military Awards Loeb Center for Career Exploration and Planning | amherst.edu/campuslife/careers | Resume Page 5  ○ You may also list your most\n",
      "notable academic awards or honors NOTE: Customarily seniors eliminate their high school from the Education section Example: EDUCATION Amherst College, Amherst, MA | Bachelor of Arts Expected May 2015\n",
      "● Double Major in Economics and Psychology ● Relevant Coursework: Corporate Finance, Advanced Macroeconomics, Multivariable Calculus, Statistics ● Major GPA: 3.90/4.00 Cumulative GPA: 3.82/4.00 Horace\n",
      "Mann High School, Riverdale, NY June 2011 ● Cumulative High School GPA: 4.9/5.0 SAT: 2700 M: 900 W: 900 ● AP Scholar with Distinction (Score of 5 in Microeconomics, Macroeconomics, Chemistry, and\n",
      "Calculus) Experience The Experience section is the most difficult section to write as it requires you to describe entire, sometimes multi-year experiences into a very short amount of space. Each\n",
      "position requires 2-4 action-oriented bullet points describing not only what you did, but how you did it, emphasizing data and the impact of your work. ●  Loeb Center for Career Exploration and\n",
      "Planning Resume How-To Guide What is a resume? A resume is a formal document that briefly describes your professional and academic experiences, educational background, and qualifications for the\n",
      "purpose of obtaining internships or jobs. It is a concise, organized, truthful, and specific record that succinctly lists your experiences. It is a living document, meaning that it will change and\n",
      "grow as you move through your career and you should update it periodically. How will I use my resume? Your resume is a required document for nearly all internship and job applications. In addition to\n",
      "customizing or targeting your resume for each application, you may choose to post your resume to Handshake and other career platforms, like LinkedIn, and/or share it with someone as part of a\n",
      "professional introduction. Posting your resume to a platform like Handshake makes you more visible to potential employers  describe entire, sometimes multi-year experiences into a very short amount of\n",
      "space. Each position requires 2-4 action-oriented bullet points describing not only what you did, but how you did it, emphasizing data and the impact of your work. ● List the organization, city and\n",
      "state, your role, and the month(s) and year(s) you were/are involved Loeb Center for Career Exploration and Planning | amherst.edu/campuslife/careers | Resume Page\n",
      "3<|eot_id|><|start_header_id|>user<|end_header_id|>  Are the technical skills presented in a way that aligns with industry expectations?  Work Experience: Software Engineer | Startup XYZ | 2023 -\n",
      "Present - Built RESTful APIs using Django, handling over 100k requests daily. - Developed a CI/CD pipeline that reduced deployment time by 50%.  Research Assistant | AI Lab | 2022 - 2023 - Implemented\n",
      "neural network verification techniques in Python. - Optimized matrix computations, reducing runtime by 40%. <|eot_id|><|start_header_id|>assistant<|end_header_id|> Here's a brief review of the resume:\n",
      "**Strengths:**  * The resume clearly outlines technical skills, including programming languages (Django, Python) and tools (Google Suite). * Technical skills are listed in a clear and concise manner.\n",
      "**Weaknesses:**  * The formatting could be improved to make it easier to read. Some bullet points are too long and convoluted, making them harder to scan. * There are no specific details about the\n",
      "type of programming language or technology used in the first bullet point. Consider adding more specificity, such as \"Built RESTful APIs using Django and Flask\" instead of just listing the language. *\n",
      "The second bullet point mentions a reduction in deployment time, which might not be directly related to the candidate's experience. Consider rephrasing to focus on the actual achievement rather than\n",
      "the outcome. * The third bullet point mentions optimization, but doesn't specify what kind of optimization. Consider adding more detail, such as \"Improved code readability by 30% through refactoring\n",
      "and code reviews.\" * The formatting for the Research Assistant section is similar to the Software Engineer section. While there's nothing wrong here, consider varying the formatting slightly to avoid\n",
      "repetition.  **Tailored Feedback:**  To align with industry expectations, consider adding more specific details about the types of programming languages and technologies used in the first bullet\n",
      "point. For example:  * Instead of listing the language and tool, consider specifying the programming language and framework used in the first bullet point, such as \"Built RESTful APIs using Django and\n",
      "Flask, leveraging machine learning algorithms for natural language processing.\"  For the Research Assistant section, consider adding more detail about the type of optimization achieved, such as:  *\n",
      "Instead of mentioning a 40% reduction in runtime, consider stating a specific metric, such as \"Optimized matrix computations by 75% through parallelization and caching, resulting in a 20% increase in\n",
      "performance.\"  Overall, the resume provides a good overview of the candidate's technical skills, but could benefit from some minor adjustments to improve clarity and concision.\n"
     ]
    }
   ],
   "source": [
    "Chain_pdf = RetrievalQA.from_chain_type(\n",
    "    llm=llm,\n",
    "    chain_type=\"stuff\",\n",
    "    retriever=vector_store.as_retriever(search_type=\"similarity_score_threshold\", search_kwargs={'k': 10, 'score_threshold': 0.2}),\n",
    "    chain_type_kwargs={\"prompt\": prompt},\n",
    ")\n",
    "\n",
    "query = \"\"\"Does the resume highlight leadership experience effectively?\n",
    "\n",
    "Work Experience:\n",
    "Software Engineering Intern | Google | Summer 2024\n",
    "- Developed and optimized backend services for a large-scale distributed system, improving performance by 20%.\n",
    "- Led a team of three interns in implementing a feature that reduced data retrieval time by 30%.\n",
    "\n",
    "Teaching Assistant | Amherst College | Fall 2023 - Present\n",
    "- Led weekly discussions and mentored students in algorithms and data structures.\n",
    "- Created practice problems that improved students’ understanding of computational complexity.\n",
    "\"\"\"\n",
    "result = Chain_pdf.invoke(query)\n",
    "print(fill(result['result'].strip(), width=200))\n",
    "print(\"##########################################################################\")\n",
    "\n",
    "query = \"\"\"Are the technical skills presented in a way that aligns with industry expectations?\n",
    "\n",
    "Work Experience:\n",
    "Software Engineer | Startup XYZ | 2023 - Present\n",
    "- Built RESTful APIs using Django, handling over 100k requests daily.\n",
    "- Developed a CI/CD pipeline that reduced deployment time by 50%.\n",
    "\n",
    "Research Assistant | AI Lab | 2022 - 2023\n",
    "- Implemented neural network verification techniques in Python.\n",
    "- Optimized matrix computations, reducing runtime by 40%.\n",
    "\"\"\"\n",
    "result = Chain_pdf.invoke(query)\n",
    "print(fill(result['result'].strip(), width=200))"
   ]
  }
 ],
 "metadata": {
  "kernelspec": {
   "display_name": "Python 3 (ipykernel)",
   "language": "python",
   "name": "python3"
  },
  "language_info": {
   "codemirror_mode": {
    "name": "ipython",
    "version": 3
   },
   "file_extension": ".py",
   "mimetype": "text/x-python",
   "name": "python",
   "nbconvert_exporter": "python",
   "pygments_lexer": "ipython3",
   "version": "3.10.16"
  }
 },
 "nbformat": 4,
 "nbformat_minor": 4
}
